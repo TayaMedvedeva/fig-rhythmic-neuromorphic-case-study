{
 "cells": [
  {
   "cell_type": "code",
   "execution_count": 3,
   "id": "b274bde3-1920-42c8-beb6-d1d39ee93340",
   "metadata": {},
   "outputs": [
    {
     "name": "stdout",
     "output_type": "stream",
     "text": [
      "Found w_best=7.707414829659319"
     ]
    },
    {
     "name": "stderr",
     "output_type": "stream",
     "text": [
      "WARNING: replacing module Utils.\n",
      "WARNING: replacing module Model.\n",
      "WARNING: replacing module Analysis.\n",
      "WARNING: using Model.run_simulation in module Main conflicts with an existing identifier.\n"
     ]
    },
    {
     "name": "stdout",
     "output_type": "stream",
     "text": [
      " β_best=0.09150300601202405\n",
      "Saved /Users/taya/Documents/neuromorphicControl/pendulum/simulation/fig-repro/figures/../figures/fig4.pdf\n"
     ]
    }
   ],
   "source": [
    "# include modules relative to this file's directory\n",
    "include(joinpath(@__DIR__, \"../src/utils.jl\"))\n",
    "include(joinpath(@__DIR__, \"../src/model.jl\"))\n",
    "include(joinpath(@__DIR__, \"../src/analysis.jl\"))\n",
    "\n",
    "using .Utils\n",
    "using .Model\n",
    "using .Analysis\n",
    "using Plots, LaTeXStrings\n",
    "\n",
    "# make Figures directory if missing\n",
    "isdir(joinpath(@__DIR__, \"..\", \"figures\")) || mkpath(joinpath(@__DIR__, \"..\", \"figures\"))\n",
    "\n",
    "# ==== parameters ====\n",
    "k = 1.0\n",
    "K = 15.0\n",
    "ξ = 0.1\n",
    "ωn = 8.0\n",
    "θ_ref = 0.5\n",
    "dt = 1e-3\n",
    "c = 0.2\n",
    "\n",
    "# search ranges\n",
    "β_range = range(0.01, stop=0.5, length=500)\n",
    "w_range = range(0.1, stop=12, length=500)\n",
    "\n",
    "# find best (w, beta) using Analysis\n",
    "w_best, β_best, _ = Analysis.find_best_beta_w(β_range, w_range; K=K, ωn=ωn, ξ=ξ, k=k, θ_ref=θ_ref)\n",
    "println(\"Found w_best=\", w_best, \" β_best=\", β_best)\n",
    "\n",
    "# compute γ_ref / γ_opt\n",
    "β_ref = β_best\n",
    "ω_ref = w_best\n",
    "\n",
    "γ = (β_ref) * exp(c*(pi/(2*ω_ref)))*(1 - exp(-c*(pi/ω_ref)))\n",
    "\n",
    "# run one simulation (use γ_opt)\n",
    "sol, logs = run_simulation(dt=dt, Tfinal=50.0, ξ=ξ, ωn=ωn, c=c, γ=γ, β_ref=β_ref, k=k, K=K, θ_ref=θ_ref)\n",
    "\n",
    "# run one simulation (use γ_opt ; 0.95)\n",
    "sol1, logs1 = run_simulation(dt=dt, Tfinal=50.0, ξ=ξ, ωn=ωn, c=c, γ=0.95*γ, β_ref=β_ref, k=k, K=K, θ_ref=θ_ref)\n",
    "\n",
    "# plots\n",
    "s = scatter(logs.ti_arr, logs.Ti_arr, \n",
    "    markersize=2,\n",
    "    label=L\"\\beta:\\gamma^\\star = (e^{c\\frac{\\pi}{2\\omega^\\star}} - e^{-c\\frac{\\pi}{2\\omega^\\star}}) \\beta^\\star\",\n",
    "    xlabel=L\"t\", \n",
    "    ylabel=L\"\\beta(t)\",\n",
    "    legendfontsize=9,\n",
    "    xlabelfontsize=9,  \n",
    "    ylabelfontsize=9,\n",
    "    tickfontsize=8,\n",
    "    # size=(504, 288)\n",
    "    size=(504, 184)\n",
    ")\n",
    "scatter!(logs1.ti_arr, logs1.Ti_arr, markersize=2, color=\"red\", label=L\"\\beta:\\gamma = 0.95 \\cdot \\gamma^\\star\")\n",
    "hline!([β_ref], linestyle=:dash, label=L\"\\beta=\\beta^\\star\")\n",
    "\n",
    "# save the figure into project-level /figures\n",
    "outpath = joinpath(@__DIR__, \"..\", \"figures\", \"fig4.pdf\")\n",
    "savefig(s, outpath)\n",
    "println(\"Saved \", outpath)\n"
   ]
  },
  {
   "cell_type": "code",
   "execution_count": null,
   "id": "6939af55-a3e9-496c-b903-bfc5909a3cbe",
   "metadata": {},
   "outputs": [],
   "source": []
  }
 ],
 "metadata": {
  "kernelspec": {
   "display_name": "Julia 1.11.1",
   "language": "julia",
   "name": "julia-1.11"
  },
  "language_info": {
   "file_extension": ".jl",
   "mimetype": "application/julia",
   "name": "julia",
   "version": "1.11.1"
  }
 },
 "nbformat": 4,
 "nbformat_minor": 5
}
