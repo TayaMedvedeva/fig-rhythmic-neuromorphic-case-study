{
 "cells": [
  {
   "cell_type": "code",
   "execution_count": 8,
   "id": "c1bd06ed-7544-4b04-a290-0d5a75dc66fc",
   "metadata": {},
   "outputs": [
    {
     "name": "stdout",
     "output_type": "stream",
     "text": [
      "Saved /Users/taya/Documents/neuromorphicControl/pendulum/simulation/fig-repro/scripts/../figures/fig2.pdf"
     ]
    },
    {
     "name": "stderr",
     "output_type": "stream",
     "text": [
      "WARNING: replacing module Utils.\n",
      "WARNING: replacing module Model.\n",
      "WARNING: replacing module Analysis.\n"
     ]
    },
    {
     "name": "stdout",
     "output_type": "stream",
     "text": [
      "\n"
     ]
    }
   ],
   "source": [
    "# include modules relative to this file's directory\n",
    "include(joinpath(@__DIR__, \"../src/utils.jl\"))\n",
    "include(joinpath(@__DIR__, \"../src/model.jl\"))\n",
    "include(joinpath(@__DIR__, \"../src/analysis.jl\"))\n",
    "\n",
    "using .Utils\n",
    "using .Model\n",
    "using .Analysis\n",
    "using Plots, LaTeXStrings\n",
    "\n",
    "# make Figures directory if missing\n",
    "isdir(joinpath(@__DIR__, \"..\", \"figures\")) || mkpath(joinpath(@__DIR__, \"..\", \"figures\"))\n",
    "\n",
    "# ==== parameters ====\n",
    "k = 1.0\n",
    "K = 15.0\n",
    "ξ = 0.1\n",
    "ωn = 8.0\n",
    "θ_ref = 0.5\n",
    "dt = 1e-3\n",
    "\n",
    "β_arr = 0.0:0.02:0.24\n",
    "β_arr, A_sim, w_sim, A_anal, w_HB, A_anal1 =\n",
    "    Analysis.amplitude_vs_beta(β_arr; ξ=ξ, ωn=ωn, k=k, K=K,\n",
    "                               θ_ref=θ_ref, c=0, γ=0, dt=dt, Tfinal=50.0)\n",
    "\n",
    "# plots\n",
    "p = plot(β_arr, A_sim,\n",
    "    label=L\"\\mathrm{Amplitude \\ in \\ simulations}\",\n",
    "    legend=:bottomright, \n",
    "    xlabel=L\"\\beta\", \n",
    "    ylabel=L\"\\mathrm{Output \\ amplitude}\",\n",
    "    xlabelfontsize=8,  \n",
    "    ylabelfontsize=8,\n",
    "    tickfontsize=7,\n",
    "    size=(504,184)\n",
    ")\n",
    "plot!(β_arr, A_anal,\n",
    "      label=L\"\\hat{A}(\\beta) \\ \\mathrm{with} \\ \\omega \\ \\mathrm{from \\ HB \\ equation}\")\n",
    "\n",
    "# save the figure into project-level /figures\n",
    "outpath = joinpath(@__DIR__, \"..\", \"figures\", \"fig2.pdf\")\n",
    "savefig(p, outpath)\n",
    "println(\"Saved \", outpath)\n"
   ]
  },
  {
   "cell_type": "code",
   "execution_count": null,
   "id": "dd749302-a3fc-4609-a7ce-fc33f3c12ad3",
   "metadata": {},
   "outputs": [],
   "source": []
  },
  {
   "cell_type": "code",
   "execution_count": null,
   "id": "417c031e-2e48-4c2d-97a5-2d6b4906bf6e",
   "metadata": {},
   "outputs": [],
   "source": []
  }
 ],
 "metadata": {
  "kernelspec": {
   "display_name": "Julia 1.11.1",
   "language": "julia",
   "name": "julia-1.11"
  },
  "language_info": {
   "file_extension": ".jl",
   "mimetype": "application/julia",
   "name": "julia",
   "version": "1.11.1"
  }
 },
 "nbformat": 4,
 "nbformat_minor": 5
}
