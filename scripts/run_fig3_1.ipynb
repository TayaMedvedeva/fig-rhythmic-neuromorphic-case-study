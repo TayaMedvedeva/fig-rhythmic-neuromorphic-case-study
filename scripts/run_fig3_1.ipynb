{
 "cells": [
  {
   "cell_type": "code",
   "execution_count": 15,
   "id": "12f1e273-3b08-4f8b-ab5e-c1046e23954e",
   "metadata": {},
   "outputs": [
    {
     "name": "stdout",
     "output_type": "stream",
     "text": [
      "Found w_best=7.707414829659319"
     ]
    },
    {
     "name": "stderr",
     "output_type": "stream",
     "text": [
      "WARNING: replacing module Utils.\n",
      "WARNING: replacing module Model.\n",
      "WARNING: replacing module Analysis.\n"
     ]
    },
    {
     "name": "stdout",
     "output_type": "stream",
     "text": [
      " β_best=0.09150300601202405\n",
      "Saved /Users/taya/Documents/neuromorphicControl/pendulum/simulation/fig-repro/scripts/../figures/fig3_2.pdf\n"
     ]
    }
   ],
   "source": [
    "# include modules relative to this file's directory\n",
    "include(joinpath(@__DIR__, \"../src/utils.jl\"))\n",
    "include(joinpath(@__DIR__, \"../src/model.jl\"))\n",
    "include(joinpath(@__DIR__, \"../src/analysis.jl\"))\n",
    "\n",
    "using .Utils\n",
    "using .Model\n",
    "using .Analysis\n",
    "using Plots, LaTeXStrings\n",
    "\n",
    "# make Figures directory if missing\n",
    "isdir(joinpath(@__DIR__, \"..\", \"figures\")) || mkpath(joinpath(@__DIR__, \"..\", \"figures\"))\n",
    "\n",
    "# ==== parameters ====\n",
    "k = 1.0\n",
    "K = 15.0\n",
    "ξ = 0.1\n",
    "ωn = 8.0\n",
    "θ_ref = 0.5\n",
    "dt = 1e-3\n",
    "c = 0.2\n",
    "\n",
    "# search ranges\n",
    "β_range = range(0.01, stop=0.5, length=500)\n",
    "w_range = range(0.1, stop=12, length=500)\n",
    "\n",
    "# find best (w, beta) using Analysis\n",
    "w_best, β_best, _ = Analysis.find_best_beta_w(β_range, w_range; K=K, ωn=ωn, ξ=ξ, k=k, θ_ref=θ_ref)\n",
    "println(\"Found w_best=\", w_best, \" β_best=\", β_best)\n",
    "\n",
    "# compute γ_ref / γ_opt\n",
    "β_ref = β_best\n",
    "ω_ref = w_best\n",
    "\n",
    "# damped natural frequency\n",
    "ωd = ωn * sqrt(1 - ξ^2)\n",
    "γ_opt = β_ref * (1 - exp(-c * 2 * π / ωd)) / (3 * exp(-c * π / (2 * ωd)) - exp(-c * 3 * π / (2 * ωd)))\n",
    "\n",
    "c_arr = [i for i = 0.01: 0.01 :1^1]\n",
    "γ_arr = [i for i = 0.01: 0.01 :1^1]\n",
    "log_c = 10 .^(range(-2, stop=0, length=length(c_arr)))\n",
    "log_γ = 10 .^(range(-3, stop=-1, length=length(c_arr)))\n",
    "# log_γ = range(0.001, stop=0.2, length=length(c_arr))\n",
    "\n",
    "A_anal = zeros(length(c_arr), length(γ_arr))\n",
    "for i in 1:length(log_c)\n",
    "    c = log_c[i]\n",
    "    for j in 1:length(log_γ)\n",
    "        γ = log_γ[j] \n",
    "        \n",
    "        c2 = γ * exp(-c*(pi/(2*ωd)))\n",
    "        c1 = exp(-c*(pi/(ωd)))\n",
    "        c0 = (1 - c1)*β_ref\n",
    "        \n",
    "        if c2 == c0\n",
    "            β_est = β_ref\n",
    "            Aij = min(abs(Analysis.func_th_beta(β_est; K=K, ωn=ωn, ωd=ωd, ξ=ξ, k=k) -  θ_ref), 0.5)\n",
    "        end\n",
    "        if c2 < c0\n",
    "            β_est = c2/(1 - c1)\n",
    "            Aij = min(abs(Analysis.func_th_beta(β_est; K=K, ωn=ωn, ωd=ωd, ξ=ξ, k=k) -  θ_ref), 0.5)\n",
    "        end\n",
    "        if c2 > c0\n",
    "            β_est_u = c2 - c0 + β_ref\n",
    "            Aij = min(abs(Analysis.func_th_beta(β_est_u; K=K, ωn=ωn, ωd=ωd, ξ=ξ, k=k) -  θ_ref), 0.5)\n",
    "        end\n",
    "        A_anal[i, j] = Aij\n",
    "    end\n",
    "end\n",
    "\n",
    "# plots\n",
    "h = heatmap(range(-2, stop=0, length=length(c_arr)),\n",
    "    range(-3, stop=-1, length=length(c_arr)), A_anal, \n",
    "    xlabel = \"γ\", ylabel = \"c\",\n",
    "    xlabelfontsize=8,  \n",
    "    ylabelfontsize=8,\n",
    "    tickfontsize=7,\n",
    "    # size=(504, 288)\n",
    "    size=(504, 184)\n",
    ")\n",
    "\n",
    "# save the figure into project-level /figures\n",
    "outpath = joinpath(@__DIR__, \"..\", \"figures\", \"fig3_2.pdf\")\n",
    "savefig(h, outpath)\n",
    "println(\"Saved \", outpath)\n"
   ]
  },
  {
   "cell_type": "code",
   "execution_count": null,
   "id": "02390271-0e97-4b5d-8699-02e82538b13e",
   "metadata": {},
   "outputs": [],
   "source": []
  }
 ],
 "metadata": {
  "kernelspec": {
   "display_name": "Julia 1.11.1",
   "language": "julia",
   "name": "julia-1.11"
  },
  "language_info": {
   "file_extension": ".jl",
   "mimetype": "application/julia",
   "name": "julia",
   "version": "1.11.1"
  }
 },
 "nbformat": 4,
 "nbformat_minor": 5
}
